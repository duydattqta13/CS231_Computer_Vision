{
  "cells": [
    {
      "cell_type": "markdown",
      "metadata": {
        "id": "PI_3Fe9IxHIf"
      },
      "source": [
        "# Thông tin"
      ]
    },
    {
      "cell_type": "markdown",
      "metadata": {
        "id": "xhaUtp7JxNaK"
      },
      "source": [
        "1.MSSV: 20520435\n",
        "\n",
        "2.Họ tên: Nguyễn Duy Đạt\n",
        "\n",
        "3.Bài tập: 3\n",
        "\n",
        "4.Ngày thực hiện: 21/4/2022"
      ]
    },
    {
      "cell_type": "markdown",
      "metadata": {
        "id": "7GNRC-n6xYE8"
      },
      "source": [
        "# Bài tập 3"
      ]
    },
    {
      "cell_type": "markdown",
      "metadata": {
        "id": "Y-VI-wD5xnro"
      },
      "source": [
        "Tập dữ liệu Dog vs Cat:\n",
        "\n",
        "– Áp dụng Linear classification cho đặc trưng Histogram\n",
        "\n",
        "– Áp dụng KNN và Linear classification cho đặc\n",
        "trưng HOG"
      ]
    },
    {
      "cell_type": "code",
      "execution_count": null,
      "metadata": {
        "colab": {
          "base_uri": "https://localhost:8080/"
        },
        "id": "tqBt0CCvw_hg",
        "outputId": "12ebfa52-84c6-4b4b-ef85-6b41eba7a55e"
      },
      "outputs": [
        {
          "output_type": "stream",
          "name": "stdout",
          "text": [
            "Drive already mounted at /content/drive; to attempt to forcibly remount, call drive.mount(\"/content/drive\", force_remount=True).\n"
          ]
        }
      ],
      "source": [
        "from google.colab import drive\n",
        "drive.mount('/content/drive')"
      ]
    },
    {
      "cell_type": "code",
      "execution_count": null,
      "metadata": {
        "colab": {
          "base_uri": "https://localhost:8080/"
        },
        "id": "MQdU_Tv12JzF",
        "outputId": "83923fd8-f1bd-41ab-a0ee-a31af0785bea"
      },
      "outputs": [
        {
          "output_type": "stream",
          "name": "stdout",
          "text": [
            "/content/drive/.shortcut-targets-by-id/13C37EedUSDnRymGA5rWpsqcry8w0txyr/CS231.M21.KHTN/Baitap/Dataset\n"
          ]
        }
      ],
      "source": [
        "%cd \"/content/drive/MyDrive/CS231.M21.KHTN/Baitap/Dataset\""
      ]
    },
    {
      "cell_type": "code",
      "execution_count": null,
      "metadata": {
        "colab": {
          "base_uri": "https://localhost:8080/"
        },
        "id": "__SM2TJH2kc1",
        "outputId": "1c25f8df-05a8-4125-dbe5-5d94b6fe3e18"
      },
      "outputs": [
        {
          "output_type": "stream",
          "name": "stdout",
          "text": [
            "/content/drive/.shortcut-targets-by-id/13C37EedUSDnRymGA5rWpsqcry8w0txyr/CS231.M21.KHTN/Baitap/Dataset/dogscats_small/train\n"
          ]
        }
      ],
      "source": [
        "%cd \"../Dataset/dogscats_small/train\""
      ]
    },
    {
      "cell_type": "code",
      "execution_count": null,
      "metadata": {
        "id": "pvUPtpHqz3Js"
      },
      "outputs": [],
      "source": [
        "import cv2\n",
        "import os\n",
        "import numpy as np"
      ]
    },
    {
      "cell_type": "code",
      "execution_count": null,
      "metadata": {
        "id": "PcQToMSuzbW9"
      },
      "outputs": [],
      "source": [
        "def TinhHist(pathfilename):\n",
        "  img = cv2.imread(pathfilename, 0)\n",
        "  hist = cv2.calcHist([img], [0], None, [256], [0, 256])\n",
        "  size = img.shape[0]*img.shape[1]\n",
        "  return hist"
      ]
    },
    {
      "cell_type": "code",
      "execution_count": null,
      "metadata": {
        "id": "b2kekL6tz62b"
      },
      "outputs": [],
      "source": [
        "def ExtractFeature(pathfilename, opt):\n",
        "  if opt==0:\n",
        "    return TinhHist(pathfilename)\n",
        "  if opt==1:\n",
        "    return compute_hog_train(pathfilename)[0].reshape(-1)"
      ]
    },
    {
      "cell_type": "code",
      "execution_count": null,
      "metadata": {
        "id": "yF_mX-sn0IlB"
      },
      "outputs": [],
      "source": [
        "def ReadData(path, opt):\n",
        "  kinds = []\n",
        "  hist = []\n",
        "  for file_name in os.listdir(path):\n",
        "    kind = file_name.split('.')[0]\n",
        "    if kind == 'dog':\n",
        "      kinds.append(1)\n",
        "    else:\n",
        "      kinds.append(0)\n",
        "\n",
        "    hist.append(ExtractFeature(path+'/'+file_name, opt).reshape(-1))\n",
        "\n",
        "    features = np.array(hist)\n",
        "    labels = np.array(kinds)\n",
        "  return features, labels"
      ]
    },
    {
      "cell_type": "code",
      "execution_count": null,
      "metadata": {
        "id": "mFQxdRyM1bF_"
      },
      "outputs": [],
      "source": [
        "df_train = ReadData('../train', 0)"
      ]
    },
    {
      "cell_type": "markdown",
      "metadata": {
        "id": "HyrG6HAc3p5h"
      },
      "source": [
        "# Áp dụng Linear Classification cho đặc trưng Histogram"
      ]
    },
    {
      "cell_type": "markdown",
      "metadata": {
        "id": "5Kp-VIzI4KLa"
      },
      "source": [
        "-Sử dụng SVC"
      ]
    },
    {
      "cell_type": "code",
      "execution_count": null,
      "metadata": {
        "id": "IgcCZv8_4F-X"
      },
      "outputs": [],
      "source": [
        "from sklearn.svm import SVC\n",
        "from sklearn.metrics import accuracy_score"
      ]
    },
    {
      "cell_type": "code",
      "execution_count": null,
      "metadata": {
        "id": "wQ359v6b4QRh"
      },
      "outputs": [],
      "source": [
        "X_train = df_train[0]\n",
        "y_train = df_train[1]"
      ]
    },
    {
      "cell_type": "code",
      "execution_count": null,
      "metadata": {
        "colab": {
          "base_uri": "https://localhost:8080/"
        },
        "id": "d_oltI-H4mJK",
        "outputId": "96d2af1c-efd9-44fd-b1f2-aaefcee95879"
      },
      "outputs": [
        {
          "output_type": "stream",
          "name": "stdout",
          "text": [
            "(42, 256)\n"
          ]
        },
        {
          "output_type": "execute_result",
          "data": {
            "text/plain": [
              "(42,)"
            ]
          },
          "metadata": {},
          "execution_count": 165
        }
      ],
      "source": [
        "print(X_train.shape)\n",
        "y_train.shape"
      ]
    },
    {
      "cell_type": "code",
      "execution_count": null,
      "metadata": {
        "id": "v3i_DXQj6Vy2"
      },
      "outputs": [],
      "source": [
        "df_test = ReadData('../test', 0)\n",
        "X_test = df_test[0]\n",
        "y_test = df_test[1]"
      ]
    },
    {
      "cell_type": "code",
      "execution_count": null,
      "metadata": {
        "colab": {
          "base_uri": "https://localhost:8080/"
        },
        "id": "XSbkSpGa4bTX",
        "outputId": "bfb72ae4-c6a2-4c0a-873e-2bb719985f4d"
      },
      "outputs": [
        {
          "output_type": "stream",
          "name": "stdout",
          "text": [
            "Accuracy on Train: 0.8333333333333334\n",
            "Accuracy on Test: 0.55\n"
          ]
        }
      ],
      "source": [
        "model = SVC()\n",
        "model.fit(X_train, y_train)\n",
        "y_train_pred = model.predict(X_train)\n",
        "print(\"Accuracy on Train:\", accuracy_score(y_train, y_train_pred))\n",
        "y_test_pred = model.predict(X_test)\n",
        "print(\"Accuracy on Test:\", accuracy_score(y_test, y_test_pred))"
      ]
    },
    {
      "cell_type": "markdown",
      "source": [
        "-Sử dụng KNN"
      ],
      "metadata": {
        "id": "sLC3L4X8DAaN"
      }
    },
    {
      "cell_type": "code",
      "source": [
        "for i in range(1, 20):\n",
        "  print('k =', i, ':')\n",
        "  knn = KNeighborsClassifier(n_neighbors=i)\n",
        "  knn.fit(X_train, y_train)\n",
        "  y_train_pred = knn.predict(X_train)\n",
        "  print(\"Accuracy on Train:\", accuracy_score(y_train, y_train_pred))\n",
        "  y_test_pred = knn.predict(X_test)\n",
        "  print(\"Accuracy on Test:\", accuracy_score(y_test, y_test_pred))\n",
        "  print(\"-------------------------------------------------\")"
      ],
      "metadata": {
        "colab": {
          "base_uri": "https://localhost:8080/"
        },
        "id": "eg90W8VxC_2M",
        "outputId": "3fe2c622-ebc3-4b94-d0a0-e7b4a73d3b5b"
      },
      "execution_count": null,
      "outputs": [
        {
          "output_type": "stream",
          "name": "stdout",
          "text": [
            "k = 1 :\n",
            "Accuracy on Train: 1.0\n",
            "Accuracy on Test: 0.45\n",
            "-------------------------------------------------\n",
            "k = 2 :\n",
            "Accuracy on Train: 0.6904761904761905\n",
            "Accuracy on Test: 0.65\n",
            "-------------------------------------------------\n",
            "k = 3 :\n",
            "Accuracy on Train: 0.7619047619047619\n",
            "Accuracy on Test: 0.65\n",
            "-------------------------------------------------\n",
            "k = 4 :\n",
            "Accuracy on Train: 0.6190476190476191\n",
            "Accuracy on Test: 0.6\n",
            "-------------------------------------------------\n",
            "k = 5 :\n",
            "Accuracy on Train: 0.6904761904761905\n",
            "Accuracy on Test: 0.45\n",
            "-------------------------------------------------\n",
            "k = 6 :\n",
            "Accuracy on Train: 0.6428571428571429\n",
            "Accuracy on Test: 0.65\n",
            "-------------------------------------------------\n",
            "k = 7 :\n",
            "Accuracy on Train: 0.7380952380952381\n",
            "Accuracy on Test: 0.55\n",
            "-------------------------------------------------\n",
            "k = 8 :\n",
            "Accuracy on Train: 0.7142857142857143\n",
            "Accuracy on Test: 0.6\n",
            "-------------------------------------------------\n",
            "k = 9 :\n",
            "Accuracy on Train: 0.7142857142857143\n",
            "Accuracy on Test: 0.6\n",
            "-------------------------------------------------\n",
            "k = 10 :\n",
            "Accuracy on Train: 0.7142857142857143\n",
            "Accuracy on Test: 0.5\n",
            "-------------------------------------------------\n",
            "k = 11 :\n",
            "Accuracy on Train: 0.6666666666666666\n",
            "Accuracy on Test: 0.55\n",
            "-------------------------------------------------\n",
            "k = 12 :\n",
            "Accuracy on Train: 0.6428571428571429\n",
            "Accuracy on Test: 0.6\n",
            "-------------------------------------------------\n",
            "k = 13 :\n",
            "Accuracy on Train: 0.5952380952380952\n",
            "Accuracy on Test: 0.6\n",
            "-------------------------------------------------\n",
            "k = 14 :\n",
            "Accuracy on Train: 0.6190476190476191\n",
            "Accuracy on Test: 0.55\n",
            "-------------------------------------------------\n",
            "k = 15 :\n",
            "Accuracy on Train: 0.6190476190476191\n",
            "Accuracy on Test: 0.65\n",
            "-------------------------------------------------\n",
            "k = 16 :\n",
            "Accuracy on Train: 0.5714285714285714\n",
            "Accuracy on Test: 0.6\n",
            "-------------------------------------------------\n",
            "k = 17 :\n",
            "Accuracy on Train: 0.5476190476190477\n",
            "Accuracy on Test: 0.55\n",
            "-------------------------------------------------\n",
            "k = 18 :\n",
            "Accuracy on Train: 0.5238095238095238\n",
            "Accuracy on Test: 0.55\n",
            "-------------------------------------------------\n",
            "k = 19 :\n",
            "Accuracy on Train: 0.5714285714285714\n",
            "Accuracy on Test: 0.55\n",
            "-------------------------------------------------\n"
          ]
        }
      ]
    },
    {
      "cell_type": "markdown",
      "metadata": {
        "id": "HKZm386d74KH"
      },
      "source": [
        "# Áp dụng KNN và Linear classification cho đặc trưng HOG"
      ]
    },
    {
      "cell_type": "code",
      "execution_count": null,
      "metadata": {
        "id": "A7XLr-Sr79Y-"
      },
      "outputs": [],
      "source": [
        "from skimage import feature\n",
        "\n",
        "def compute_hog_train(pathfilename):\n",
        "  train_features = []\n",
        "  img = cv2.imread(pathfilename)\n",
        "  img =cv2.resize(img, (128, 256))\n",
        "  (hog, hog_image) = feature.hog(img, orientations=9, \n",
        "  pixels_per_cell=(8, 8), cells_per_block=(2, 2), \n",
        "  block_norm='L2-Hys', visualize=True, transform_sqrt=True)\n",
        "  train_features.append(hog)\n",
        "  return train_features"
      ]
    },
    {
      "cell_type": "code",
      "source": [
        "df_train = ReadData('../train', 1)"
      ],
      "metadata": {
        "id": "aV-xFYbB-i0N"
      },
      "execution_count": null,
      "outputs": []
    },
    {
      "cell_type": "code",
      "source": [
        "X_train = df_train[0]\n",
        "y_train = df_train[1]"
      ],
      "metadata": {
        "id": "8N7AxPPS_X27"
      },
      "execution_count": null,
      "outputs": []
    },
    {
      "cell_type": "code",
      "source": [
        "from sklearn.neighbors import KNeighborsClassifier"
      ],
      "metadata": {
        "id": "_xA-pjkP-920"
      },
      "execution_count": null,
      "outputs": []
    },
    {
      "cell_type": "code",
      "source": [
        "df_test = ReadData('../test', 1)\n",
        "X_test = df_test[0]\n",
        "y_test = df_test[1]"
      ],
      "metadata": {
        "id": "x2b9lI89AUIT"
      },
      "execution_count": null,
      "outputs": []
    },
    {
      "cell_type": "code",
      "source": [
        "import matplotlib.pyplot as plt"
      ],
      "metadata": {
        "id": "0mNpV7MlBoua"
      },
      "execution_count": null,
      "outputs": []
    },
    {
      "cell_type": "code",
      "source": [
        "for i in range(1, 20):\n",
        "  print('k =', i, ':')\n",
        "  knn = KNeighborsClassifier(n_neighbors=i)\n",
        "  knn.fit(X_train, y_train)\n",
        "  y_train_pred = knn.predict(X_train)\n",
        "  print(\"Accuracy on Train:\", accuracy_score(y_train, y_train_pred))\n",
        "  y_test_pred = knn.predict(X_test)\n",
        "  print(\"Accuracy on Test:\", accuracy_score(y_test, y_test_pred))\n",
        "  print(\"-------------------------------------------------\")"
      ],
      "metadata": {
        "colab": {
          "base_uri": "https://localhost:8080/"
        },
        "id": "GEy2Q2-MCWzn",
        "outputId": "ea4f1998-b94a-41f6-d78d-dd38a216c7d3"
      },
      "execution_count": null,
      "outputs": [
        {
          "output_type": "stream",
          "name": "stdout",
          "text": [
            "k = 1 :\n",
            "Accuracy on Train: 1.0\n",
            "Accuracy on Test: 0.65\n",
            "-------------------------------------------------\n",
            "k = 2 :\n",
            "Accuracy on Train: 0.9047619047619048\n",
            "Accuracy on Test: 0.65\n",
            "-------------------------------------------------\n",
            "k = 3 :\n",
            "Accuracy on Train: 0.6666666666666666\n",
            "Accuracy on Test: 0.55\n",
            "-------------------------------------------------\n",
            "k = 4 :\n",
            "Accuracy on Train: 0.7380952380952381\n",
            "Accuracy on Test: 0.6\n",
            "-------------------------------------------------\n",
            "k = 5 :\n",
            "Accuracy on Train: 0.6904761904761905\n",
            "Accuracy on Test: 0.55\n",
            "-------------------------------------------------\n",
            "k = 6 :\n",
            "Accuracy on Train: 0.7380952380952381\n",
            "Accuracy on Test: 0.55\n",
            "-------------------------------------------------\n",
            "k = 7 :\n",
            "Accuracy on Train: 0.6666666666666666\n",
            "Accuracy on Test: 0.45\n",
            "-------------------------------------------------\n",
            "k = 8 :\n",
            "Accuracy on Train: 0.7380952380952381\n",
            "Accuracy on Test: 0.45\n",
            "-------------------------------------------------\n",
            "k = 9 :\n",
            "Accuracy on Train: 0.6428571428571429\n",
            "Accuracy on Test: 0.4\n",
            "-------------------------------------------------\n",
            "k = 10 :\n",
            "Accuracy on Train: 0.6428571428571429\n",
            "Accuracy on Test: 0.4\n",
            "-------------------------------------------------\n",
            "k = 11 :\n",
            "Accuracy on Train: 0.6190476190476191\n",
            "Accuracy on Test: 0.35\n",
            "-------------------------------------------------\n",
            "k = 12 :\n",
            "Accuracy on Train: 0.7142857142857143\n",
            "Accuracy on Test: 0.3\n",
            "-------------------------------------------------\n",
            "k = 13 :\n",
            "Accuracy on Train: 0.6428571428571429\n",
            "Accuracy on Test: 0.35\n",
            "-------------------------------------------------\n",
            "k = 14 :\n",
            "Accuracy on Train: 0.7380952380952381\n",
            "Accuracy on Test: 0.45\n",
            "-------------------------------------------------\n",
            "k = 15 :\n",
            "Accuracy on Train: 0.6666666666666666\n",
            "Accuracy on Test: 0.45\n",
            "-------------------------------------------------\n",
            "k = 16 :\n",
            "Accuracy on Train: 0.6428571428571429\n",
            "Accuracy on Test: 0.5\n",
            "-------------------------------------------------\n",
            "k = 17 :\n",
            "Accuracy on Train: 0.6190476190476191\n",
            "Accuracy on Test: 0.45\n",
            "-------------------------------------------------\n",
            "k = 18 :\n",
            "Accuracy on Train: 0.6666666666666666\n",
            "Accuracy on Test: 0.5\n",
            "-------------------------------------------------\n",
            "k = 19 :\n",
            "Accuracy on Train: 0.5714285714285714\n",
            "Accuracy on Test: 0.5\n",
            "-------------------------------------------------\n"
          ]
        }
      ]
    },
    {
      "cell_type": "code",
      "source": [
        "error_rate = []\n",
        "for i in range(1,40):\n",
        " \n",
        " knn = KNeighborsClassifier(n_neighbors=i)\n",
        " knn.fit(X_train,y_train)\n",
        " pred_i = knn.predict(X_test)\n",
        " error_rate.append(np.mean(pred_i != y_test))\n",
        "\n",
        "plt.figure(figsize=(10,6))\n",
        "plt.plot(range(1,40),error_rate,color='blue', linestyle='dashed', marker='o',\n",
        " markerfacecolor='red', markersize=10)\n",
        "plt.title('Error Rate vs. K Value')\n",
        "plt.xlabel('K')\n",
        "plt.ylabel('Error Rate')"
      ],
      "metadata": {
        "colab": {
          "base_uri": "https://localhost:8080/",
          "height": 421
        },
        "id": "x0nTeTucBnAH",
        "outputId": "6386585f-e291-4798-e1c1-518155327d83"
      },
      "execution_count": null,
      "outputs": [
        {
          "output_type": "execute_result",
          "data": {
            "text/plain": [
              "Text(0, 0.5, 'Error Rate')"
            ]
          },
          "metadata": {},
          "execution_count": 176
        },
        {
          "output_type": "display_data",
          "data": {
            "text/plain": [
              "<Figure size 720x432 with 1 Axes>"
            ],
            "image/png": "[encoded data removed]"
          },
          "metadata": {
            "needs_background": "light"
          }
        }
      ]
    }
  ],
  "metadata": {
    "colab": {
      "collapsed_sections": [],
      "provenance": [],
      "toc_visible": true
    },
    "kernelspec": {
      "display_name": "Python 3",
      "name": "python3"
    },
    "language_info": {
      "name": "python"
    }
  },
  "nbformat": 4,
  "nbformat_minor": 0
}